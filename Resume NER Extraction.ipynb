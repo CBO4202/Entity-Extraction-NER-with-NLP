{
 "cells": [
  {
   "cell_type": "markdown",
   "id": "0b1414ae-cd6d-49ab-aaa6-c321cd14f42e",
   "metadata": {},
   "source": [
    "# Resume Keywords Extract - NER for pdf"
   ]
  },
  {
   "cell_type": "markdown",
   "id": "cdab3da9-b8c4-449d-93c0-4f798c257298",
   "metadata": {},
   "source": [
    "## The project\n",
    "This project extracts information from resumes.\n",
    "The resume sample is from microsoft resume template\n",
    "\n",
    "1. extract sections\n",
    "2. extracted entities , keywords, from each section\n"
   ]
  },
  {
   "cell_type": "markdown",
   "id": "84d0afd1-54e6-43e8-92cd-d586ab1c6af0",
   "metadata": {},
   "source": [
    "## Define the file location and path"
   ]
  },
  {
   "cell_type": "code",
   "execution_count": 37,
   "id": "fa087fb5-5d30-4560-9e12-a81b604b528d",
   "metadata": {},
   "outputs": [
    {
     "name": "stdout",
     "output_type": "stream",
     "text": [
      "ResumeSample.pdf\n"
     ]
    }
   ],
   "source": [
    "import fitz  # PyMuPDF\n",
    "file_path = 'ResumeSample.pdf'\n",
    "print (file_path)"
   ]
  },
  {
   "cell_type": "markdown",
   "id": "8ea325e2-213e-467a-8d86-e1e1b2a37f7d",
   "metadata": {},
   "source": [
    "## Read the pdf contect with fitz"
   ]
  },
  {
   "cell_type": "code",
   "execution_count": 38,
   "id": "8f07a59d-b708-4b5e-9743-bfaf118a77c2",
   "metadata": {},
   "outputs": [],
   "source": [
    "\n",
    "\n",
    "def extract_text_from_pdf(file_path):\n",
    "    pdf_document = fitz.open(file_path)\n",
    "    text = \"\"\n",
    "    for page_num in range(len(pdf_document)):\n",
    "        page = pdf_document.load_page(page_num)\n",
    "        text += page.get_text(\"text\")\n",
    "    return text\n",
    "\n",
    "resume_text = extract_text_from_pdf(file_path)\n",
    "# print(resume_text)"
   ]
  },
  {
   "cell_type": "markdown",
   "id": "81382f26-c7d9-46cf-a1f0-740f6e8df5cc",
   "metadata": {},
   "source": [
    "## Extract skills from resume"
   ]
  },
  {
   "cell_type": "code",
   "execution_count": 44,
   "id": "8100927d-7514-4060-bce0-5e4ed5b1d8a5",
   "metadata": {},
   "outputs": [
    {
     "name": "stdout",
     "output_type": "stream",
     "text": [
      "Extracted Skills:\n"
     ]
    }
   ],
   "source": [
    "\n",
    "\n",
    "def extract_skills(text):\n",
    "    # Using regular expressions to find the \"Skills and Technologies\" section\n",
    "    skills_section = re.search(r'Skills and Technologies\\s*(.*?)\\s*Education', text, re.DOTALL)\n",
    "    if skills_section:\n",
    "        skills_text = skills_section.group(1).strip()\n",
    "        # Further processing can be done here if needed to clean up the skills text\n",
    "        return skills_text.split('\\n')\n",
    "    return []\n",
    "\n",
    "skills = extract_skills(resume_text)\n",
    "print(\"Extracted Skills:\")\n",
    "for skill in skills:\n",
    "    print(skill)"
   ]
  },
  {
   "cell_type": "markdown",
   "id": "677bc43d-f5c7-4d06-bea6-4a432a296ae2",
   "metadata": {},
   "source": [
    "# User fitz and NLP - spacy"
   ]
  },
  {
   "cell_type": "code",
   "execution_count": 40,
   "id": "8c66878a-92a4-4a62-90d2-d95f08ca84d5",
   "metadata": {},
   "outputs": [
    {
     "name": "stdout",
     "output_type": "stream",
     "text": [
      "Amanda Billings\n",
      "10 Paper Road • Milltown, MA 70543 • (555) 123-1234 • amanda_billings@email.com\n",
      "ACCOUNTING MANAGER\n",
      "Highly organized and diligent professional drawing upon ten years of experience in accounting and\n",
      "finance to contribute to smooth and productive operations. Collaborate cross-functionally across\n",
      "organizational levels to build consensus, track benchmark achievement, and troubleshoot emerging\n",
      "issues.\n",
      "-SKILLS -\n",
      "●Bookkeeping: AP, AR, Account Reconciliations,\n",
      "Payroll\n",
      "●Oral and Written Communications\n",
      "●Federal and State Tax Preparation\n",
      "●Office Administration\n",
      "●Positive Teamwork and Collaboration\n",
      "●QuickBooks and Microsoft Office Suite\n",
      "PROFESSIONAL EXPERIENCE\n",
      "Barclay Professional Accounting Services, Inc., Milltown, MA\n",
      "Practice Manager (October 2018 – Present)\n",
      "Handle and optimize all administrative operations for 7-physician medical practice. Scope of\n",
      "responsibilities includes: accounts receivable / payable, accounting, budget review, and preparation of\n",
      "financials for CPA. Selected Contributions:\n",
      "⬥\n",
      "Eliminated backlog in financial reporting responsibilities within 25 days of initial hiring.\n",
      "⬥\n",
      "Successfully project-managed acquisition and installation of state-of-the-art healthcare billing\n",
      "software that reduced errors by 30%.\n",
      "Reddington Hardware, Wellington, MA\n",
      "Accountant (August 2012 – October 2018)\n",
      "Skillfully performed all office accounting tasks for small hardware store. Gathered and analyzed financial\n",
      "data, and processed accounts payable, accounts receivable, and payroll for workforce of 35 personnel.\n",
      "Selected Contributions:\n",
      "⬥\n",
      "Created monthly and annual budget and forecast reports that contributed to a 5% decrease in\n",
      "annual expenditures.\n",
      "⬥\n",
      "Migrated accounting system to a new software provider and integrated all accounting,\n",
      "bookkeeping, tax, and payroll functions into the new system.\n",
      "EDUCATION & CREDENTIALS\n",
      "Vermont State College, Rutland, VT\n",
      "Bachelor of Science in Accounting\n",
      "Graduated Magna cum Laude\n",
      "\n"
     ]
    }
   ],
   "source": [
    "import fitz  # PyMuPDF\n",
    "\n",
    "def extract_text_from_pdf(file_path):\n",
    "    pdf_document = fitz.open(file_path)\n",
    "    text = \"\"\n",
    "    for page_num in range(len(pdf_document)):\n",
    "        page = pdf_document.load_page(page_num)\n",
    "        text += page.get_text(\"text\")\n",
    "    return text\n",
    "\n",
    "resume_text = extract_text_from_pdf(file_path)\n",
    "print(resume_text)"
   ]
  },
  {
   "cell_type": "code",
   "execution_count": 41,
   "id": "e6588498-878a-497d-b65b-b805315117f5",
   "metadata": {},
   "outputs": [
    {
     "name": "stdout",
     "output_type": "stream",
     "text": [
      "Extracted Sections:\n",
      "\n",
      "Section: Skills\n",
      "Collaborate cross-functionally across\n",
      "organizational levels to build consensus, track benchmark achievement, and troubleshoot emerging\n",
      "issues.\n",
      "-SKILLS -\n",
      "●Bookkeeping: AP, AR, Account Reconciliations,\n",
      "Payroll\n",
      "●Oral and Written Communications\n",
      "●Federal and State Tax Preparation\n",
      "●Office Administration\n",
      "●Positive Teamwork and Collaboration\n",
      "●QuickBooks and Microsoft Office Suite\n",
      "PROFESSIONAL EXPERIENCE\n",
      "Barclay Professional Accounting Services, Inc., Milltown, MA\n",
      "Practice Manager (October 2018 – Present)\n",
      "Handle and optimize all administrative operations for 7-physician medical practice. Scope of\n",
      "responsibilities includes: accounts receivable / payable, accounting, budget review, and preparation of\n",
      "financials for CPA. Selected Contributions:\n",
      "⬥\n",
      "Eliminated backlog in financial reporting responsibilities within 25 days of initial hiring.\n",
      " ⬥\n",
      "Successfully project-managed acquisition and installation of state-of-the-art healthcare billing\n",
      "software that reduced errors by 30%.\n",
      " Reddington Hardware, Wellington, MA\n",
      "Accountant (August 2012 – October 2018)\n",
      " Skillfully performed all office accounting tasks for small hardware store. Gathered and analyzed financial\n",
      "data, and processed accounts payable, accounts receivable, and payroll for workforce of 35 personnel.\n",
      " Selected Contributions:\n",
      "⬥\n",
      "Created monthly and annual budget and forecast reports that contributed to a 5% decrease in\n",
      "annual expenditures.\n",
      " ⬥\n",
      "Migrated accounting system to a new software provider and integrated all accounting,\n",
      "bookkeeping, tax, and payroll functions into the new system.\n",
      " EDUCATION & CREDENTIALS\n",
      "Vermont State College, Rutland, VT\n",
      "Bachelor of Science in Accounting\n",
      "Graduated Magna cum Laude\n",
      "\n"
     ]
    }
   ],
   "source": [
    "import re\n",
    "import spacy\n",
    "\n",
    "# Load spaCy model\n",
    "nlp = spacy.load(\"en_core_web_sm\")\n",
    "\n",
    "def extract_relevant_sections(text):\n",
    "    doc = nlp(text)\n",
    "    \n",
    "    # Define keywords that might be indicative of a skills section\n",
    "    skills_keywords = [\"skills\", \"technologies\", \"competencies\", \"expertise\", \"proficiencies\"]\n",
    "    \n",
    "    # Use spaCy to split the text into sentences\n",
    "    sentences = [sent.text for sent in doc.sents]\n",
    "    \n",
    "    # Identify potential skills sections based on the presence of keywords\n",
    "    sections = {}\n",
    "    current_section = None\n",
    "    for sentence in sentences:\n",
    "        for keyword in skills_keywords:\n",
    "            if keyword.lower() in sentence.lower():\n",
    "                current_section = keyword.lower()\n",
    "                sections[current_section] = []\n",
    "        if current_section:\n",
    "            sections[current_section].append(sentence)\n",
    "    \n",
    "    # Concatenate sentences for each identified section\n",
    "    for section in sections:\n",
    "        sections[section] = ' '.join(sections[section])\n",
    "    \n",
    "    return sections\n",
    "\n",
    "sections = extract_relevant_sections(resume_text)\n",
    "\n",
    "print(\"Extracted Sections:\")\n",
    "for section, content in sections.items():\n",
    "    print(f\"\\nSection: {section.capitalize()}\")\n",
    "    print(content)"
   ]
  },
  {
   "cell_type": "markdown",
   "id": "7894e06d-2187-4569-a595-25c0c53e9e7d",
   "metadata": {},
   "source": [
    "# identify section dynamically with spacy en_core"
   ]
  },
  {
   "cell_type": "code",
   "execution_count": 42,
   "id": "e9a3b653-7da1-4ed6-a58f-0525fda21f0f",
   "metadata": {},
   "outputs": [],
   "source": [
    "import fitz  # PyMuPDF\n",
    "\n",
    "def extract_text_from_pdf(file_path):\n",
    "    pdf_document = fitz.open(file_path)\n",
    "    text = \"\"\n",
    "    for page_num in range(len(pdf_document)):\n",
    "        page = pdf_document.load_page(page_num)\n",
    "        text += page.get_text(\"text\")\n",
    "    return text\n",
    "\n",
    "resume_text = extract_text_from_pdf(file_path)\n",
    "#print(resume_text)"
   ]
  },
  {
   "cell_type": "code",
   "execution_count": 43,
   "id": "65e90fe9-890b-47ff-bbfe-4183ceae6e42",
   "metadata": {},
   "outputs": [
    {
     "name": "stdout",
     "output_type": "stream",
     "text": [
      "Extracted Sections:\n",
      "\n",
      "Section: Executive Summary\n",
      "\n",
      "\n",
      "Section: Core Competencies\n",
      "\n",
      "\n",
      "Section: Skills and Technologies\n",
      "\n",
      "\n",
      "Section: Professional Experience\n",
      "Barclay Professional Accounting Services, Inc., Milltown, MA Practice Manager (October 2018 – Present) Handle and optimize all administrative operations for 7-physician medical practice. Scope of responsibilities includes: accounts receivable / payable, accounting, budget review, and preparation of financials for CPA. Selected Contributions: ⬥ Eliminated backlog in financial reporting responsibilities within 25 days of initial hiring. ⬥ Successfully project-managed acquisition and installation of state-of-the-art healthcare billing software that reduced errors by 30%. Reddington Hardware, Wellington, MA Accountant (August 2012 – October 2018) Skillfully performed all office accounting tasks for small hardware store. Gathered and analyzed financial data, and processed accounts payable, accounts receivable, and payroll for workforce of 35 personnel. Selected Contributions: ⬥ Created monthly and annual budget and forecast reports that contributed to a 5% decrease in annual expenditures. ⬥ Migrated accounting system to a new software provider and integrated all accounting, bookkeeping, tax, and payroll functions into the new system.\n",
      "\n",
      "Section: Education\n",
      "Vermont State College, Rutland, VT Bachelor of Science in Accounting Graduated Magna cum Laude\n"
     ]
    }
   ],
   "source": [
    "import re\n",
    "import spacy\n",
    "\n",
    "# Load spaCy model\n",
    "nlp = spacy.load(\"en_core_web_sm\")\n",
    "\n",
    "def extract_relevant_sections(text):\n",
    "    doc = nlp(text)\n",
    "    \n",
    "    # Define possible section headers\n",
    "    section_headers = [\"Executive Summary\", \"Core Competencies\", \"Skills and Technologies\", \"Professional Experience\", \"Education\"]\n",
    "    \n",
    "    # Split text into lines for easier processing\n",
    "    lines = text.split('\\n')\n",
    "    \n",
    "    # Dictionary to hold section content\n",
    "    sections = {header: [] for header in section_headers}\n",
    "    current_section = None\n",
    "    \n",
    "    for line in lines:\n",
    "        # Check if the line is a section header\n",
    "        for header in section_headers:\n",
    "            if re.search(rf'\\b{header}\\b', line, re.IGNORECASE):\n",
    "                current_section = header\n",
    "                break\n",
    "        else:\n",
    "            # If the line is not a section header, add it to the current section\n",
    "            if current_section:\n",
    "                sections[current_section].append(line)\n",
    "    \n",
    "    # Combine lines into a single string for each section\n",
    "    for header in sections:\n",
    "        sections[header] = ' '.join(sections[header]).strip()\n",
    "    \n",
    "    return sections\n",
    "\n",
    "sections = extract_relevant_sections(resume_text)\n",
    "\n",
    "print(\"Extracted Sections:\")\n",
    "for section, content in sections.items():\n",
    "    print(f\"\\nSection: {section}\")\n",
    "    print(content)"
   ]
  },
  {
   "cell_type": "code",
   "execution_count": null,
   "id": "29ec7906-a5a2-4f2a-b9de-b595dc009643",
   "metadata": {},
   "outputs": [],
   "source": []
  }
 ],
 "metadata": {
  "kernelspec": {
   "display_name": "Python 3 (ipykernel)",
   "language": "python",
   "name": "python3"
  },
  "language_info": {
   "codemirror_mode": {
    "name": "ipython",
    "version": 3
   },
   "file_extension": ".py",
   "mimetype": "text/x-python",
   "name": "python",
   "nbconvert_exporter": "python",
   "pygments_lexer": "ipython3",
   "version": "3.11.8"
  }
 },
 "nbformat": 4,
 "nbformat_minor": 5
}
