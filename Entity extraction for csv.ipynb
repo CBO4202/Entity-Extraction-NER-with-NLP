{
 "cells": [
  {
   "cell_type": "markdown",
   "id": "6203329c-6e96-45c0-a8dc-13fb62190910",
   "metadata": {},
   "source": [
    "# Entity extraction use spacy and huggingface NER model"
   ]
  },
  {
   "cell_type": "code",
   "execution_count": 6,
   "id": "6cec0f1b-375e-42aa-af0c-9e539aafff9e",
   "metadata": {},
   "outputs": [
    {
     "data": {
      "text/html": [
       "<div>\n",
       "<style scoped>\n",
       "    .dataframe tbody tr th:only-of-type {\n",
       "        vertical-align: middle;\n",
       "    }\n",
       "\n",
       "    .dataframe tbody tr th {\n",
       "        vertical-align: top;\n",
       "    }\n",
       "\n",
       "    .dataframe thead th {\n",
       "        text-align: right;\n",
       "    }\n",
       "</style>\n",
       "<table border=\"1\" class=\"dataframe\">\n",
       "  <thead>\n",
       "    <tr style=\"text-align: right;\">\n",
       "      <th></th>\n",
       "      <th>ID</th>\n",
       "      <th>Resume_str</th>\n",
       "      <th>Resume_html</th>\n",
       "      <th>Category</th>\n",
       "    </tr>\n",
       "  </thead>\n",
       "  <tbody>\n",
       "    <tr>\n",
       "      <th>0</th>\n",
       "      <td>16852973</td>\n",
       "      <td>HR ADMINISTRATOR/MARKETING ASSOCIATE\\...</td>\n",
       "      <td>&lt;div class=\"fontsize fontface vmargins hmargin...</td>\n",
       "      <td>HR</td>\n",
       "    </tr>\n",
       "    <tr>\n",
       "      <th>1</th>\n",
       "      <td>22323967</td>\n",
       "      <td>HR SPECIALIST, US HR OPERATIONS      ...</td>\n",
       "      <td>&lt;div class=\"fontsize fontface vmargins hmargin...</td>\n",
       "      <td>HR</td>\n",
       "    </tr>\n",
       "  </tbody>\n",
       "</table>\n",
       "</div>"
      ],
      "text/plain": [
       "         ID                                         Resume_str  \\\n",
       "0  16852973           HR ADMINISTRATOR/MARKETING ASSOCIATE\\...   \n",
       "1  22323967           HR SPECIALIST, US HR OPERATIONS      ...   \n",
       "\n",
       "                                         Resume_html Category  \n",
       "0  <div class=\"fontsize fontface vmargins hmargin...       HR  \n",
       "1  <div class=\"fontsize fontface vmargins hmargin...       HR  "
      ]
     },
     "execution_count": 6,
     "metadata": {},
     "output_type": "execute_result"
    }
   ],
   "source": [
    "import pandas as pd\n",
    "import spacy\n",
    "from transformers import pipeline\n",
    "\n",
    "# Load spaCy model\n",
    "nlp = spacy.load(\"en_core_web_sm\")\n",
    "\n",
    "# Define the path to your CSV file\n",
    "file_path = 'Resume.csv'\n",
    "\n",
    "# Read the CSV file into a DataFrame\n",
    "resume_data = pd.read_csv(file_path)\n",
    "resume_data.head(2)"
   ]
  },
  {
   "cell_type": "code",
   "execution_count": null,
   "id": "1c160a8b-6986-434e-99da-032b8287530e",
   "metadata": {},
   "outputs": [],
   "source": [
    "\n",
    "# Display the first few rows of the DataFrame\n",
    "print(resume_data.head())\n",
    "\n",
    "# Load a pre-trained NER model from Hugging Face\n",
    "ner_model = pipeline(\"ner\", model=\"dbmdz/bert-large-cased-finetuned-conll03-english\")"
   ]
  },
  {
   "cell_type": "code",
   "execution_count": 7,
   "id": "b1e2c470-5756-421e-a736-dc62b0267371",
   "metadata": {},
   "outputs": [
    {
     "name": "stdout",
     "output_type": "stream",
     "text": [
      "         HR SPECIALIST, US HR OPERATIONS       Summary     Versatile  media professional with background in Communications, Marketing, Human Resources and Technology.         Experience     09/2015   to   Current     HR Specialist, US HR Operations    Company Name   －   City  ,   State       Managed communication regarding launch of Operations group, policy changes and system outages      Designed standard work and job aids to create comprehensive training program for new employees and contractors         Audited job postings for old, pending, on-hold and draft positions.           Audited union hourly, non-union hourly and salary background checks and drug screens             Conducted monthly new hire benefits briefing to new employees across all business units               Served as a link between HR Managers and vendors by handling questions and resolving system-related issues         Provide real-time process improvement feedback on key metrics and initiatives  Successfully re-branded US HR Operations SharePoint site  Business Unit project manager for RFI/RFP on Background Check and Drug Screen vendor         01/2014   to   05/2015     IT, Marketing and Communications Co-op    Company Name   －   City  ,   State      Posted new articles, changes and updates to corporate SharePoint site including graphics and visual communications.  Researched and drafted articles and feature stories to promote company activities and programs.  Co-edited and developed content for quarterly published newsletter.  Provided communication support for internal and external events.  Collaborated with Communication team, media professionals and vendors to determine program needs for print materials, web design and digital communications.  Entrusted to lead product, service and software launches for Digital Asset Management tool, Marketing Toolkit website and Executive Tradeshows Calendar.  Created presentations for management and executive approval to ensure alignment with corporate guidelines and branding.  Maintained the MySikorsky SharePoint site and provided timely solutions to mitigate issues.      Created story board and produced video for annual IT All Hands meeting.         10/2012   to   01/2014     Relationship Coordinator/Marketing Specialist    Company Name   －   City  ,   State       Partnered with vendor to manage the in-house advertising program consisting of print and media collateral pieces.     Coordinated pre-show and post-show activities at trade shows.     Managed marketing campaigns to generate new business and to support partner and sales teams.     Ordered marketing collateral for meetings, trade shows and advisors.    Improved, administered and modified marketing programs to increase product awareness.  Assisted in preparing internal promotional publications, managed marketing material inventory and supervised distribution of publications to ensure high quality product output.  Coordinated marketing materials including brochures, promotional materials and products.  Partnered with graphic designers to develop appropriate materials and branding for brochures.  Used tracking and reporting systems for sales leads and appointments.         09/2009   to   10/2012     Assistant Head Teller    Company Name   －   City  ,   State       Received an internal audit score of  100 %.     Performed daily and monthly audits of ATM machines and tellers.     Educated customers on a variety of retail products and available credit options.       Consistently met or exceeded quarterly sales goals     Promoted products and services to\n",
      "customers while maintaining company brand identity\n",
      "\n",
      "·    \n",
      "  Implemented programs to achieve\n",
      "and exceed customer and company participation goals \n",
      "\n",
      "   Organized company sponsored events on campus resulting in increased\n",
      "brand awareness\n",
      "\n",
      "·    \n",
      "  Coached peers on\n",
      "the proper use of programs to improve work flow efficiency  Utilized product knowledge to successfully sell\n",
      "to and refer clients based on individual needs  Promoted marketing the grand opening\n",
      "of new branch locations to strengthen company brand affinity\n",
      "\n",
      "·       Organized company sponsored events\n",
      "resulting in increased brand awareness and improved sales\n",
      "\n",
      "·       Coached peers on the proper use of\n",
      "programs to increase work flow efficiency\n",
      "\n",
      "          Senior Producer - 2014 SHU Media Exchange    Company Name   －   City  ,   State      Planned and executed event focusing on Connecticut's creative corridor, growth of industry and opportunities that come with development. A  panel of industry professionals addressed topics related to media and hosted a question and answer session for approximately 110 attendees. Following the forum, guests were invited to engage in networking and conversation at a post-event reception.         Education     2014     Master of Arts  :   Corporate Communication & Public Relations    Sacred Heart University   －   City  ,   State             2013     Bachelor of Arts  :   Relational Communication    Western Connecticut State University   －   City  ,   State              Skills    Adobe Photoshop, ADP, Asset Management, branding, brochures, content, Customer Care, Final Cut Pro, graphics, graphic, HR, Illustrator, InDesign, Innovation, inventory, Lotus Notes, marketing, marketing materials, marketing material, materials, Microsoft Office, SharePoint, newsletter, presentations, process improvement, Project Management, promotional materials, publications, Quality, real-time, Recruitment, reporting, RFP, sales, stories, Employee Development, video, web design, website, articles   \n"
     ]
    }
   ],
   "source": [
    "# Example of processing the first resume in the dataset\n",
    "resume_text = resume_data.iloc[1]['Resume_str']  # Adjust this if your column name is different\n",
    "print(resume_text)"
   ]
  },
  {
   "cell_type": "code",
   "execution_count": 8,
   "id": "6d7ae68e-e69c-408c-b86c-660999633d7b",
   "metadata": {},
   "outputs": [
    {
     "name": "stdout",
     "output_type": "stream",
     "text": [
      "Basic Keywords with spaCy:\n",
      "Entity: SPECIALIST, Label: ORG\n",
      "Entity: US, Label: GPE\n",
      "Entity: Communications, Marketing, Human Resources and Technology, Label: ORG\n",
      "Entity: US, Label: GPE\n",
      "Entity: Operations, Label: ORG\n",
      "Entity: hourly, Label: TIME\n",
      "Entity: non-union, Label: GPE\n",
      "Entity: hourly, Label: TIME\n",
      "Entity: monthly, Label: DATE\n",
      "Entity: US, Label: GPE\n",
      "Entity: Business Unit, Label: ORG\n",
      "Entity: RFI, Label: ORG\n",
      "Entity: Background Check and Drug Screen, Label: ORG\n",
      "Entity: SharePoint, Label: ORG\n",
      "Entity: Researched, Label: ORG\n",
      "Entity: quarterly, Label: DATE\n",
      "Entity: Collaborated with Communication, Label: ORG\n",
      "Entity: Digital Asset Management, Label: ORG\n",
      "Entity: Marketing Toolkit, Label: PERSON\n",
      "Entity: Created, Label: ORG\n",
      "Entity: MySikorsky SharePoint, Label: ORG\n",
      "Entity: Created, Label: ORG\n",
      "Entity: annual, Label: DATE\n",
      "Entity: 100 %, Label: PERCENT\n",
      "Entity: daily, Label: DATE\n",
      "Entity: monthly, Label: DATE\n",
      "Entity: ATM, Label: ORG\n",
      "Entity: quarterly, Label: DATE\n",
      "Entity: Utilized, Label: ORG\n",
      "Entity: SHU Media Exchange    Company Name, Label: ORG\n",
      "Entity: Connecticut, Label: GPE\n",
      "Entity: 110, Label: CARDINAL\n",
      "Entity: 2014, Label: DATE\n",
      "Entity: Corporate Communication & Public Relations, Label: ORG\n",
      "Entity: 2013, Label: DATE\n",
      "Entity: Relational Communication    Western Connecticut State University, Label: ORG\n",
      "Entity: ADP, Label: ORG\n",
      "Entity: Asset Management, Label: ORG\n",
      "Entity: Customer Care, Label: ORG\n",
      "Entity: Illustrator, InDesign, Innovation, Label: ORG\n",
      "Entity: Lotus Notes, Label: ORG\n",
      "Entity: Microsoft Office, Label: ORG\n",
      "Entity: SharePoint, Label: ORG\n",
      "Entity: Project Management, Label: ORG\n",
      "Entity: Quality, Label: ORG\n",
      "Entity: Recruitment, Label: PERSON\n",
      "Entity: RFP, Label: ORG\n",
      "Entity: Employee Development, Label: ORG\n"
     ]
    }
   ],
   "source": [
    "# Process text with spaCy\n",
    "doc = nlp(resume_text)\n",
    "\n",
    "print(\"Basic Keywords with spaCy:\")\n",
    "for entity in doc.ents:\n",
    "    print(f\"Entity: {entity.text}, Label: {entity.label_}\")"
   ]
  },
  {
   "cell_type": "code",
   "execution_count": 9,
   "id": "030a4acf-c3e0-4af7-b3b7-944a1b7a1dd0",
   "metadata": {},
   "outputs": [
    {
     "name": "stdout",
     "output_type": "stream",
     "text": [
      "\n",
      "Advanced Keywords with Hugging Face NER model:\n",
      "Entity: US, Label: I-LOC\n",
      "Entity: Resources, Label: I-ORG\n",
      "Entity: US, Label: I-ORG\n",
      "Entity: Operations, Label: I-ORG\n",
      "Entity: City, Label: I-LOC\n",
      "Entity: US, Label: I-ORG\n",
      "Entity: Screen, Label: I-MISC\n",
      "Entity: IT, Label: I-ORG\n",
      "Entity: Marketing, Label: I-ORG\n",
      "Entity: and, Label: I-ORG\n",
      "Entity: Communications, Label: I-ORG\n",
      "Entity: Co, Label: I-ORG\n",
      "Entity: op, Label: I-ORG\n",
      "Entity: City, Label: I-LOC\n",
      "Entity: S, Label: I-MISC\n",
      "Entity: ##hare, Label: I-MISC\n",
      "Entity: ##P, Label: I-MISC\n",
      "Entity: Digital, Label: I-MISC\n",
      "Entity: As, Label: I-MISC\n",
      "Entity: Too, Label: I-MISC\n",
      "Entity: ##lk, Label: I-MISC\n",
      "Entity: ##it, Label: I-MISC\n",
      "Entity: ##sh, Label: I-MISC\n",
      "Entity: Calendar, Label: I-MISC\n",
      "Entity: My, Label: I-MISC\n",
      "Entity: ##S, Label: I-MISC\n",
      "Entity: ##iko, Label: I-ORG\n",
      "Entity: ##rsk, Label: I-ORG\n",
      "Entity: ##y, Label: I-ORG\n",
      "Entity: S, Label: I-MISC\n",
      "Entity: ##hare, Label: I-MISC\n",
      "Entity: ##P, Label: I-MISC\n",
      "Entity: ##oint, Label: I-MISC\n"
     ]
    }
   ],
   "source": [
    "# Advanced keyword extraction with Hugging Face NER model\n",
    "print(\"\\nAdvanced Keywords with Hugging Face NER model:\")\n",
    "results = ner_model(resume_text)\n",
    "for entity in results:\n",
    "    print(f\"Entity: {entity['word']}, Label: {entity['entity']}\")"
   ]
  },
  {
   "cell_type": "code",
   "execution_count": null,
   "id": "bc0c935a-b77b-479a-867c-ddf506b881b8",
   "metadata": {},
   "outputs": [],
   "source": []
  }
 ],
 "metadata": {
  "kernelspec": {
   "display_name": "Python 3 (ipykernel)",
   "language": "python",
   "name": "python3"
  },
  "language_info": {
   "codemirror_mode": {
    "name": "ipython",
    "version": 3
   },
   "file_extension": ".py",
   "mimetype": "text/x-python",
   "name": "python",
   "nbconvert_exporter": "python",
   "pygments_lexer": "ipython3",
   "version": "3.11.8"
  }
 },
 "nbformat": 4,
 "nbformat_minor": 5
}
